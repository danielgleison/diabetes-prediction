{
 "cells": [
  {
   "cell_type": "markdown",
   "metadata": {},
   "source": [
    "UNIVERSIDADE ESTADUAL DO CEARÁ \\\n",
    "MESTRADO ACADÊMICO EM CIÊNCIA DA COMPUTAÇÃO \\\n",
    "MINERAÇÃO MASSIVA DE DADOS\n",
    "\n",
    "Daniel Gleison Moreira Lira \\\n",
    "daniel.gleison@aluno.uece.br\n",
    "\n",
    "---\n",
    "# Aplicativo de diagnóstico de diabetes utilizando aprendizado de máquina e processamento distribuído\n",
    "---"
   ]
  },
  {
   "cell_type": "code",
   "execution_count": 1,
   "metadata": {},
   "outputs": [],
   "source": [
    "import findspark\n",
    "findspark.init()"
   ]
  },
  {
   "cell_type": "code",
   "execution_count": 2,
   "metadata": {},
   "outputs": [],
   "source": [
    "import pyspark\n",
    "from pyspark.sql import SparkSession\n",
    "from pyspark.ml.classification import DecisionTreeClassificationModel\n",
    "from pyspark.ml.linalg import Vectors\n",
    "\n",
    "import pandas as pd"
   ]
  },
  {
   "cell_type": "code",
   "execution_count": 3,
   "metadata": {},
   "outputs": [],
   "source": [
    "spark = SparkSession.builder \\\n",
    "        .master(\"local[*]\") \\\n",
    "        .appName(\"PredictionDiabetesApp\") \\\n",
    "        .getOrCreate()"
   ]
  },
  {
   "cell_type": "code",
   "execution_count": 4,
   "metadata": {},
   "outputs": [],
   "source": [
    "Model_DT_PredictionFraud = DecisionTreeClassificationModel.load('model')"
   ]
  },
  {
   "cell_type": "code",
   "execution_count": 5,
   "metadata": {},
   "outputs": [
    {
     "name": "stdin",
     "output_type": "stream",
     "text": [
      "Idade: 50\n",
      "Poliúria [S/N]: s\n",
      "Polidipsia [S/N]: n\n",
      "Perda repentina de peso [S/N]: s\n",
      "Fraqueza [S/N]: n\n",
      "Polifagia [S/N]: s\n",
      "Tordo genital [S/N]: n\n",
      "Embaçamento visual [S/N]: s\n",
      "Coceira [S/N]: n\n",
      "Irritabilidade [S/N]: s\n",
      "Demora de cura [S/N]: n\n",
      "Paresia parcial [S/N]: s\n",
      "Rigidez muscular [S/N]: n\n",
      "Alopecia [S/N]: s\n",
      "Obesidade [S/N]: n\n"
     ]
    }
   ],
   "source": [
    "In1 =  input(\"Idade:\")\n",
    "In2 =  input(\"Poliúria [S/N]:\")\n",
    "In3 =  input(\"Polidipsia [S/N]:\")\n",
    "In4 =  input(\"Perda repentina de peso [S/N]:\")\n",
    "In5 =  input(\"Fraqueza [S/N]:\")\n",
    "In6 =  input(\"Polifagia [S/N]:\")\n",
    "In7 =  input(\"Tordo genital [S/N]:\")\n",
    "In8 =  input(\"Embaçamento visual [S/N]:\")\n",
    "In9 =  input(\"Coceira [S/N]:\")\n",
    "In10 = input(\"Irritabilidade [S/N]:\")\n",
    "In11 = input(\"Demora de cura [S/N]:\")\n",
    "In12 = input(\"Paresia parcial [S/N]:\")\n",
    "In13 = input(\"Rigidez muscular [S/N]:\")\n",
    "In14 = input(\"Alopecia [S/N]:\")\n",
    "In15 = input(\"Obesidade [S/N]:\")"
   ]
  },
  {
   "cell_type": "code",
   "execution_count": 6,
   "metadata": {},
   "outputs": [],
   "source": [
    "data = [In1,In2,In3,In4,In5,In6,In7,In8,In9,In10,In11,In12,In13,In14,In15]\n",
    "column_names = [\"Idade\",\"Poliuria\",\"Polidipsia\",\"Perda_Peso\",\"Fraqueza\",\"Polifagia\",\"Tordo_genital\",\\\n",
    "                \"Embacamento_visual\",\"Coceira\",\"Irritabilidade\",\\\n",
    "               \"Demora_cura\",\"Paresia_parcial\",\"Rigidez_muscular\",\"Alopecia\",\"Obesidade\"]\n",
    "df = pd.DataFrame(data, column_names)"
   ]
  },
  {
   "cell_type": "code",
   "execution_count": 7,
   "metadata": {},
   "outputs": [],
   "source": [
    "for x in range(1,15):\n",
    "\n",
    "    if   df[0][x] == 'S' or df[0][x] == 's': df[0][x] = 1 \n",
    "    elif df[0][x]  == 'N' or df[0][x]  == 'n': df[0][x] = 0\n",
    "    else: df[0][x]  = 0"
   ]
  },
  {
   "cell_type": "code",
   "execution_count": 8,
   "metadata": {},
   "outputs": [],
   "source": [
    "list = [df[0][0],df[0][1],df[0][2],df[0][3],df[0][4],df[0][5],\\\n",
    "        df[0][6],df[0][7],df[0][8],df[0][9],df[0][10],\\\n",
    "        df[0][11],df[0][12],df[0][13],df[0][14]]"
   ]
  },
  {
   "cell_type": "code",
   "execution_count": 9,
   "metadata": {},
   "outputs": [],
   "source": [
    "features = Vectors.dense(list)"
   ]
  },
  {
   "cell_type": "code",
   "execution_count": 10,
   "metadata": {},
   "outputs": [],
   "source": [
    "df_app = spark.createDataFrame(\n",
    "    [(1,\\\n",
    "      Vectors.dense(features))],\n",
    "    ['label', 'features'])"
   ]
  },
  {
   "cell_type": "code",
   "execution_count": 11,
   "metadata": {},
   "outputs": [],
   "source": [
    "resultado = Model_DT_PredictionFraud.transform(df_app)\n",
    "df_predicao = resultado.select('prediction')"
   ]
  },
  {
   "cell_type": "code",
   "execution_count": 12,
   "metadata": {},
   "outputs": [],
   "source": [
    "df_predicao = df_predicao.toPandas()\n",
    "vl_predicao = df_predicao.iloc[0][0]"
   ]
  },
  {
   "cell_type": "code",
   "execution_count": 13,
   "metadata": {},
   "outputs": [
    {
     "name": "stdout",
     "output_type": "stream",
     "text": [
      "RESULTADO DA PREDIÇÃO: DIAGNÓSTICO POSITIVO\n"
     ]
    }
   ],
   "source": [
    "if vl_predicao == 1: print('RESULTADO DA PREDIÇÃO: DIAGNÓSTICO POSITIVO')\n",
    "if vl_predicao == 0: print('RESULTADO DA PREDIÇÃO: DIAGNÓSTICO NEGATIVO')"
   ]
  },
  {
   "cell_type": "markdown",
   "metadata": {},
   "source": [
    "---"
   ]
  },
  {
   "cell_type": "code",
   "execution_count": 14,
   "metadata": {},
   "outputs": [],
   "source": [
    "spark.stop()"
   ]
  },
  {
   "cell_type": "code",
   "execution_count": null,
   "metadata": {},
   "outputs": [],
   "source": []
  }
 ],
 "metadata": {
  "kernelspec": {
   "display_name": "Python 3",
   "language": "python",
   "name": "python3"
  },
  "language_info": {
   "codemirror_mode": {
    "name": "ipython",
    "version": 3
   },
   "file_extension": ".py",
   "mimetype": "text/x-python",
   "name": "python",
   "nbconvert_exporter": "python",
   "pygments_lexer": "ipython3",
   "version": "3.6.9"
  }
 },
 "nbformat": 4,
 "nbformat_minor": 4
}
