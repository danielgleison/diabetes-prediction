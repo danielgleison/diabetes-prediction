{
 "cells": [
  {
   "cell_type": "markdown",
   "metadata": {},
   "source": [
    "UNIVERSIDADE ESTADUAL DO CEARÁ \\\n",
    "MESTRADO ACADÊMICO EM CIÊNCIA DA COMPUTAÇÃO \\\n",
    "MINERAÇÃO MASSIVA DE DADOS\n",
    "\n",
    "Daniel Gleison Moreira Lira \\\n",
    "daniel.gleison@aluno.uece.br\n",
    "\n",
    "---\n",
    "# Aplicativo de diagnóstico de diabetes utilizando aprendizado de máquina e processamento distribuído\n",
    "---"
   ]
  },
  {
   "cell_type": "code",
   "execution_count": 1,
   "metadata": {},
   "outputs": [],
   "source": [
    "import findspark\n",
    "findspark.init()"
   ]
  },
  {
   "cell_type": "code",
   "execution_count": 5,
   "metadata": {},
   "outputs": [],
   "source": [
    "import pyspark\n",
    "from pyspark.sql import SparkSession\n",
    "from pyspark.ml.classification import RandomForestClassificationModel\n",
    "from pyspark.ml.linalg import Vectors\n",
    "\n",
    "import pandas as pd"
   ]
  },
  {
   "cell_type": "code",
   "execution_count": 3,
   "metadata": {},
   "outputs": [],
   "source": [
    "spark = SparkSession.builder \\\n",
    "        .master(\"local[*]\") \\\n",
    "        .appName(\"PredictionDiabetesApp\") \\\n",
    "        .getOrCreate()"
   ]
  },
  {
   "cell_type": "code",
   "execution_count": 7,
   "metadata": {},
   "outputs": [],
   "source": [
    "#Carregando o modelo de classificação Random Foreset\n",
    "Model_RF_PredictionFraud = RandomForestClassificationModel.load('model_rf')"
   ]
  },
  {
   "cell_type": "code",
   "execution_count": 73,
   "metadata": {},
   "outputs": [
    {
     "name": "stdin",
     "output_type": "stream",
     "text": [
      "Idade: 50\n",
      "Gênero [M/F]: M\n",
      "Poliúria [S/N]: S\n",
      "Polidipsia [S/N]: S\n",
      "Perda repentina de peso [S/N]: N\n",
      "Fraqueza [S/N]: N\n",
      "Polifagia [S/N]: S\n",
      "Tordo genital [S/N]: N\n",
      "Embaçamento visual [S/N]: S\n",
      "Coceira [S/N]: S\n",
      "Irritabilidade [S/N]: S\n",
      "Demora de cura [S/N]: S\n",
      "Paresia parcial [S/N]: N\n",
      "Rigidez muscular [S/N]: S\n",
      "Alopecia [S/N]: N\n",
      "Obesidade [S/N]: S\n"
     ]
    }
   ],
   "source": [
    "In1 =  input(\"Idade:\")\n",
    "In2 =  input(\"Gênero [M/F]:\")\n",
    "In3 =  input(\"Poliúria [S/N]:\")\n",
    "In4 =  input(\"Polidipsia [S/N]:\")\n",
    "In5 =  input(\"Perda repentina de peso [S/N]:\")\n",
    "In6 =  input(\"Fraqueza [S/N]:\")\n",
    "In7 =  input(\"Polifagia [S/N]:\")\n",
    "In8 =  input(\"Tordo genital [S/N]:\")\n",
    "In9 =  input(\"Embaçamento visual [S/N]:\")\n",
    "In10 =  input(\"Coceira [S/N]:\")\n",
    "In11 = input(\"Irritabilidade [S/N]:\")\n",
    "In12 = input(\"Demora de cura [S/N]:\")\n",
    "In13 = input(\"Paresia parcial [S/N]:\")\n",
    "In14 = input(\"Rigidez muscular [S/N]:\")\n",
    "In15 = input(\"Alopecia [S/N]:\")\n",
    "In16 = input(\"Obesidade [S/N]:\")"
   ]
  },
  {
   "cell_type": "code",
   "execution_count": 74,
   "metadata": {},
   "outputs": [],
   "source": [
    "data = [In1,In2,In3,In4,In5,In6,In7,In8,In9,In10,In11,In12,In13,In14,In15,In16]\n",
    "column_names = [\"Idade\",\"Genero\",\"Poliuria\",\"Polidipsia\",\"Perda_Peso\",\"Fraqueza\",\"Polifagia\",\"Tordo_genital\",\\\n",
    "                \"Embacamento_visual\",\"Coceira\",\"Irritabilidade\",\\\n",
    "               \"Demora_cura\",\"Paresia_parcial\",\"Rigidez_muscular\",\"Alopecia\",\"Obesidade\"]\n",
    "df = pd.DataFrame(data, column_names)"
   ]
  },
  {
   "cell_type": "code",
   "execution_count": 75,
   "metadata": {},
   "outputs": [],
   "source": [
    "#Transformação dos atributos em [0/1]\n",
    "\n",
    "if  df[0][1] == 'M' or df[0][1] == 'm': df[0][1] = 1 \n",
    "elif df[0][1]  == 'F' or df[0][1]  == 'f': df[0][1] = 0\n",
    "else: df[0][1]  = 0\n",
    "        \n",
    "for x in range(2,16):\n",
    "    if   df[0][x] == 'S' or df[0][x] == 's': df[0][x] = 1 \n",
    "    elif df[0][x]  == 'N' or df[0][x]  == 'n': df[0][x] = 0\n",
    "    else: df[0][x]  = 0"
   ]
  },
  {
   "cell_type": "code",
   "execution_count": 76,
   "metadata": {},
   "outputs": [],
   "source": [
    "list = [df[0][0],df[0][1],df[0][2],df[0][3],df[0][4],df[0][5],\\\n",
    "        df[0][6],df[0][7],df[0][8],df[0][9],df[0][10],\\\n",
    "        df[0][11],df[0][12],df[0][13],df[0][14],df[0][15]]"
   ]
  },
  {
   "cell_type": "code",
   "execution_count": 77,
   "metadata": {},
   "outputs": [],
   "source": [
    "features = Vectors.dense(list)"
   ]
  },
  {
   "cell_type": "code",
   "execution_count": 112,
   "metadata": {},
   "outputs": [],
   "source": [
    "df_app = spark.createDataFrame(\n",
    "    [('',\\\n",
    "      Vectors.dense(features))],\n",
    "    ['', 'features'])"
   ]
  },
  {
   "cell_type": "code",
   "execution_count": 122,
   "metadata": {},
   "outputs": [
    {
     "ename": "SyntaxError",
     "evalue": "EOL while scanning string literal (<ipython-input-122-2ca3873b9fed>, line 1)",
     "output_type": "error",
     "traceback": [
      "\u001b[0;36m  File \u001b[0;32m\"<ipython-input-122-2ca3873b9fed>\"\u001b[0;36m, line \u001b[0;32m1\u001b[0m\n\u001b[0;31m    df_app = spark.createDataFrame ([(Vectors.dense(features))],[features'])\u001b[0m\n\u001b[0m                                                                            ^\u001b[0m\n\u001b[0;31mSyntaxError\u001b[0m\u001b[0;31m:\u001b[0m EOL while scanning string literal\n"
     ]
    }
   ],
   "source": [
    "df_app = spark.createDataFrame ([(Vectors.dense(features))],[features'])"
   ]
  },
  {
   "cell_type": "code",
   "execution_count": 113,
   "metadata": {},
   "outputs": [],
   "source": [
    "resultado = Model_RF_PredictionFraud.transform(df_app)\n",
    "df_predicao = resultado.select('features','rawPrediction','probability','prediction')"
   ]
  },
  {
   "cell_type": "code",
   "execution_count": 114,
   "metadata": {},
   "outputs": [
    {
     "data": {
      "text/html": [
       "<div>\n",
       "<style scoped>\n",
       "    .dataframe tbody tr th:only-of-type {\n",
       "        vertical-align: middle;\n",
       "    }\n",
       "\n",
       "    .dataframe tbody tr th {\n",
       "        vertical-align: top;\n",
       "    }\n",
       "\n",
       "    .dataframe thead th {\n",
       "        text-align: right;\n",
       "    }\n",
       "</style>\n",
       "<table border=\"1\" class=\"dataframe\">\n",
       "  <thead>\n",
       "    <tr style=\"text-align: right;\">\n",
       "      <th></th>\n",
       "      <th>features</th>\n",
       "      <th>rawPrediction</th>\n",
       "      <th>probability</th>\n",
       "      <th>prediction</th>\n",
       "    </tr>\n",
       "  </thead>\n",
       "  <tbody>\n",
       "    <tr>\n",
       "      <th>0</th>\n",
       "      <td>[50.0, 1.0, 1.0, 1.0, 0.0, 0.0, 1.0, 0.0, 1.0,...</td>\n",
       "      <td>[3.8772510278481045, 46.122748972151896]</td>\n",
       "      <td>[0.0775450205569621, 0.9224549794430379]</td>\n",
       "      <td>1.0</td>\n",
       "    </tr>\n",
       "  </tbody>\n",
       "</table>\n",
       "</div>"
      ],
      "text/plain": [
       "                                            features  \\\n",
       "0  [50.0, 1.0, 1.0, 1.0, 0.0, 0.0, 1.0, 0.0, 1.0,...   \n",
       "\n",
       "                              rawPrediction  \\\n",
       "0  [3.8772510278481045, 46.122748972151896]   \n",
       "\n",
       "                                probability  prediction  \n",
       "0  [0.0775450205569621, 0.9224549794430379]         1.0  "
      ]
     },
     "execution_count": 114,
     "metadata": {},
     "output_type": "execute_result"
    }
   ],
   "source": [
    "df_predicao = df_predicao.toPandas()\n",
    "df_predicao"
   ]
  },
  {
   "cell_type": "code",
   "execution_count": 115,
   "metadata": {},
   "outputs": [],
   "source": [
    "vl_predicao = df_predicao.iloc[0][3]\n",
    "vl_prob_negativo = df_predicao.iloc[0][2][0]\n",
    "vl_prob_positivo = df_predicao.iloc[0][2][1]"
   ]
  },
  {
   "cell_type": "code",
   "execution_count": 116,
   "metadata": {},
   "outputs": [
    {
     "name": "stdout",
     "output_type": "stream",
     "text": [
      "RESULTADO DA PREDIÇÃO:\n",
      "DIAGNÓSTICO POSITIVO\n",
      "\n",
      "PROBABILIDADE:\n",
      "92.24549794430379 %\n"
     ]
    }
   ],
   "source": [
    "print('RESULTADO DA PREDIÇÃO:')\n",
    "if vl_predicao == 1: print('DIAGNÓSTICO POSITIVO')\n",
    "if vl_predicao == 0: print('DIAGNÓSTICO NEGATIVO')\n",
    "print(\"\")\n",
    "print('PROBABILIDADE:')\n",
    "if vl_prob_negativo >= vl_prob_positivo: print(vl_prob_negativo*100,'%')\n",
    "if vl_prob_negativo < vl_prob_positivo: print(vl_prob_positivo*100, '%')"
   ]
  },
  {
   "cell_type": "markdown",
   "metadata": {},
   "source": [
    "---"
   ]
  },
  {
   "cell_type": "code",
   "execution_count": 14,
   "metadata": {},
   "outputs": [],
   "source": [
    "spark.stop()"
   ]
  },
  {
   "cell_type": "code",
   "execution_count": null,
   "metadata": {},
   "outputs": [],
   "source": []
  }
 ],
 "metadata": {
  "kernelspec": {
   "display_name": "Python 3",
   "language": "python",
   "name": "python3"
  },
  "language_info": {
   "codemirror_mode": {
    "name": "ipython",
    "version": 3
   },
   "file_extension": ".py",
   "mimetype": "text/x-python",
   "name": "python",
   "nbconvert_exporter": "python",
   "pygments_lexer": "ipython3",
   "version": "3.6.9"
  }
 },
 "nbformat": 4,
 "nbformat_minor": 4
}
